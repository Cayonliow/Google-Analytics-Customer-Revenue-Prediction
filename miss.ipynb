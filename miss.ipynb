{
 "cells": [
  {
   "cell_type": "code",
   "execution_count": 1,
   "metadata": {},
   "outputs": [],
   "source": [
    "import os\n",
    "import json\n",
    "import numpy as np\n",
    "import pandas as pd\n",
    "from pandas.io.json import json_normalize\n",
    "import matplotlib.pyplot as plt\n",
    "import seaborn as sns\n",
    "import csv\n",
    "import sys\n",
    "csv.field_size_limit(sys.maxsize)\n",
    "\n",
    "%matplotlib inline\n",
    "\n",
    "from pprint import pprint"
   ]
  },
  {
   "cell_type": "code",
   "execution_count": 2,
   "metadata": {},
   "outputs": [],
   "source": [
    "def load_df(csv_path='./data/train1000.csv', nrows=None):\n",
    "    JSON_COLUMNS = ['device', 'geoNetwork', 'totals', 'trafficSource']\n",
    "    \n",
    "    df = pd.read_csv(csv_path, \n",
    "                     converters={column: json.loads for column in JSON_COLUMNS}, \n",
    "                     dtype={'fullVisitorId': 'str'}, # Important!!\n",
    "                     nrows=nrows)\n",
    "    \n",
    "    for column in JSON_COLUMNS:\n",
    "        column_as_df = json_normalize(df[column])\n",
    "        column_as_df.columns = [column + '.' + subcolumn for subcolumn in column_as_df.columns]\n",
    "        df = df.drop(column, axis=1).merge(column_as_df, right_index=True, left_index=True)\n",
    "    return df"
   ]
  },
  {
   "cell_type": "code",
   "execution_count": 3,
   "metadata": {},
   "outputs": [],
   "source": [
    "JSON_COLUMNS_NEST = ['device', 'geoNetwork', 'totals', 'trafficSource']\n",
    "JSON_COLUMNS = ['channelGrouping', 'visitNumber', 'visitStartNumber']\n",
    "\n",
    "total_fea = ['pageviews', 'hits']\n",
    "traffic_fea = ['medium','keyword', 'source', 'referralPath', 'isTrueDirect']\n",
    "geo_fea = ['networkDomain','city','metro','region','country','continent','subContinent']\n",
    "device_fea = ['deviceCategory','operatingSystem', 'browser']\n",
    "fea = { 'device': device_fea, 'geoNetwork': geo_fea, 'totals': total_fea, 'trafficSource': traffic_fea}\n",
    "\n",
    "na = [\"not available in demo dataset\", \"(not provided)\",\"(not set)\", \"<NA>\", \"unknown.unknown\", \"(none)\"]\n",
    "\n",
    "csv_path='./data/train_v2.csv'\n",
    "extract_csv = './data/train_extract.csv'\n",
    "\n",
    "dic = {}\n",
    "\n",
    "count = 903653\n",
    "\n",
    "with open(csv_path) as fp:  \n",
    "    reader = csv.reader(fp)\n",
    "    row1 = next(reader)\n",
    "    with open(extract_csv, 'a') as f:\n",
    "        w = csv.writer(f)\n",
    "        w.writerow(row1)\n",
    "        \n",
    "    for col in row1:\n",
    "        if col in JSON_COLUMNS_NEST:\n",
    "            for _, feat in enumerate(fea[col]):\n",
    "                dic[str(col+ '.'+ feat)] = 0   \n",
    "        if col in JSON_COLUMNS:\n",
    "            dic[str(col)] = 0 \n",
    "    \n",
    "    while (1):\n",
    "        \n",
    "        row = next(reader)\n",
    "        row_standby = row.copy()\n",
    "        d = json.dumps(row)\n",
    "        g = json.loads(d)\n",
    "\n",
    "        for col in row1:\n",
    "            if col in JSON_COLUMNS_NEST:\n",
    "                subobj = json.loads(row[row1.index(col)])\n",
    "                for _, feat in enumerate(fea[col]):\n",
    "#                     print(col, feat)\n",
    "                    try:\n",
    "                        if subobj[feat] in na:\n",
    "                            dic[str(col+ '.'+ feat)]+=1\n",
    "                    except KeyError as error:\n",
    "                        dic[str(col+ '.'+ feat)]+=1\n",
    "        count-=1\n",
    "        if count < 1:\n",
    "            break"
   ]
  },
  {
   "cell_type": "code",
   "execution_count": 4,
   "metadata": {},
   "outputs": [
    {
     "name": "stdout",
     "output_type": "stream",
     "text": [
      "{'channelGrouping': 0,\n",
      " 'device.browser': 2,\n",
      " 'device.deviceCategory': 0,\n",
      " 'device.operatingSystem': 5967,\n",
      " 'geoNetwork.city': 525064,\n",
      " 'geoNetwork.continent': 1267,\n",
      " 'geoNetwork.country': 1267,\n",
      " 'geoNetwork.metro': 698061,\n",
      " 'geoNetwork.networkDomain': 405810,\n",
      " 'geoNetwork.region': 515711,\n",
      " 'geoNetwork.subContinent': 1267,\n",
      " 'totals.hits': 0,\n",
      " 'totals.pageviews': 117,\n",
      " 'trafficSource.isTrueDirect': 621365,\n",
      " 'trafficSource.keyword': 860260,\n",
      " 'trafficSource.medium': 309831,\n",
      " 'trafficSource.referralPath': 594396,\n",
      " 'trafficSource.source': 39,\n",
      " 'visitNumber': 0}\n"
     ]
    }
   ],
   "source": [
    "pprint(dic)"
   ]
  },
  {
   "cell_type": "code",
   "execution_count": 5,
   "metadata": {},
   "outputs": [
    {
     "data": {
      "text/plain": [
       "<Container object of 19 artists>"
      ]
     },
     "execution_count": 5,
     "metadata": {},
     "output_type": "execute_result"
    },
    {
     "data": {
      "image/png": "[encoded data removed]",
      "text/plain": [
       "<matplotlib.figure.Figure at 0x7f52dbc49fd0>"
      ]
     },
     "metadata": {
      "needs_background": "light"
     },
     "output_type": "display_data"
    }
   ],
   "source": [
    "plt.bar(dic.keys(), dic.values(), color='g')"
   ]
  }
 ],
 "metadata": {
  "kernelspec": {
   "display_name": "Python 3",
   "language": "python",
   "name": "python3"
  },
  "language_info": {
   "codemirror_mode": {
    "name": "ipython",
    "version": 3
   },
   "file_extension": ".py",
   "mimetype": "text/x-python",
   "name": "python",
   "nbconvert_exporter": "python",
   "pygments_lexer": "ipython3",
   "version": "3.5.2"
  }
 },
 "nbformat": 4,
 "nbformat_minor": 2
}
